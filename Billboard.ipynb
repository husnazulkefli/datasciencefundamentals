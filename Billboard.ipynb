{
 "cells": [
  {
   "cell_type": "code",
   "execution_count": 1,
   "id": "8ccfb295-d342-4760-be6e-d345190b1432",
   "metadata": {},
   "outputs": [],
   "source": [
    "import pandas as pd\n",
    "import numpy as np\n",
    "import matplotlib.pyplot as plt\n",
    "import seaborn as sns\n",
    "from sklearn import preprocessing\n",
    "from sklearn.model_selection import train_test_split\n",
    "from sklearn.ensemble import RandomForestClassifier\n",
    "from sklearn.linear_model import LogisticRegression\n",
    "from sklearn.tree import DecisionTreeClassifier"
   ]
  },
  {
   "cell_type": "code",
   "execution_count": 2,
   "id": "89fb3441-e52a-4abe-a737-36f36247d57a",
   "metadata": {},
   "outputs": [
    {
     "data": {
      "text/html": [
       "<div>\n",
       "<style scoped>\n",
       "    .dataframe tbody tr th:only-of-type {\n",
       "        vertical-align: middle;\n",
       "    }\n",
       "\n",
       "    .dataframe tbody tr th {\n",
       "        vertical-align: top;\n",
       "    }\n",
       "\n",
       "    .dataframe thead th {\n",
       "        text-align: right;\n",
       "    }\n",
       "</style>\n",
       "<table border=\"1\" class=\"dataframe\">\n",
       "  <thead>\n",
       "    <tr style=\"text-align: right;\">\n",
       "      <th></th>\n",
       "      <th>url</th>\n",
       "      <th>WeekID</th>\n",
       "      <th>Week Position</th>\n",
       "      <th>Song</th>\n",
       "      <th>Performer</th>\n",
       "      <th>SongID</th>\n",
       "      <th>Instance</th>\n",
       "      <th>Previous Week Position</th>\n",
       "      <th>Peak Position</th>\n",
       "      <th>Weeks on Chart</th>\n",
       "    </tr>\n",
       "  </thead>\n",
       "  <tbody>\n",
       "    <tr>\n",
       "      <th>327890</th>\n",
       "      <td>https://www.billboard.com/charts/hot-100/2018-...</td>\n",
       "      <td>10/20/2018</td>\n",
       "      <td>22</td>\n",
       "      <td>God Is A Woman</td>\n",
       "      <td>Ariana Grande</td>\n",
       "      <td>God Is A WomanAriana Grande</td>\n",
       "      <td>1</td>\n",
       "      <td>21.0</td>\n",
       "      <td>8</td>\n",
       "      <td>13</td>\n",
       "    </tr>\n",
       "    <tr>\n",
       "      <th>327891</th>\n",
       "      <td>http://www.billboard.com/charts/hot-100/1977-0...</td>\n",
       "      <td>5/21/1977</td>\n",
       "      <td>22</td>\n",
       "      <td>I Wanna Get Next To You</td>\n",
       "      <td>Rose Royce</td>\n",
       "      <td>I Wanna Get Next To YouRose Royce</td>\n",
       "      <td>1</td>\n",
       "      <td>10.0</td>\n",
       "      <td>10</td>\n",
       "      <td>13</td>\n",
       "    </tr>\n",
       "    <tr>\n",
       "      <th>327892</th>\n",
       "      <td>http://www.billboard.com/charts/hot-100/1981-0...</td>\n",
       "      <td>5/23/1981</td>\n",
       "      <td>22</td>\n",
       "      <td>I Can't Stand It</td>\n",
       "      <td>Eric Clapton And His Band</td>\n",
       "      <td>I Can't Stand ItEric Clapton And His Band</td>\n",
       "      <td>1</td>\n",
       "      <td>12.0</td>\n",
       "      <td>10</td>\n",
       "      <td>13</td>\n",
       "    </tr>\n",
       "    <tr>\n",
       "      <th>327893</th>\n",
       "      <td>http://www.billboard.com/charts/hot-100/1973-0...</td>\n",
       "      <td>9/29/1973</td>\n",
       "      <td>22</td>\n",
       "      <td>Here I Am Come &amp; Take Me</td>\n",
       "      <td>Al Green</td>\n",
       "      <td>Here I Am Come &amp; Take MeAl Green</td>\n",
       "      <td>1</td>\n",
       "      <td>16.0</td>\n",
       "      <td>10</td>\n",
       "      <td>13</td>\n",
       "    </tr>\n",
       "    <tr>\n",
       "      <th>327894</th>\n",
       "      <td>https://www.billboard.com/charts/hot-100/2020-...</td>\n",
       "      <td>11/28/2020</td>\n",
       "      <td>22</td>\n",
       "      <td>Hawai</td>\n",
       "      <td>Maluma &amp; The Weeknd</td>\n",
       "      <td>HawaiMaluma &amp; The Weeknd</td>\n",
       "      <td>1</td>\n",
       "      <td>12.0</td>\n",
       "      <td>12</td>\n",
       "      <td>13</td>\n",
       "    </tr>\n",
       "  </tbody>\n",
       "</table>\n",
       "</div>"
      ],
      "text/plain": [
       "                                                      url      WeekID  \\\n",
       "327890  https://www.billboard.com/charts/hot-100/2018-...  10/20/2018   \n",
       "327891  http://www.billboard.com/charts/hot-100/1977-0...   5/21/1977   \n",
       "327892  http://www.billboard.com/charts/hot-100/1981-0...   5/23/1981   \n",
       "327893  http://www.billboard.com/charts/hot-100/1973-0...   9/29/1973   \n",
       "327894  https://www.billboard.com/charts/hot-100/2020-...  11/28/2020   \n",
       "\n",
       "        Week Position                      Song                  Performer  \\\n",
       "327890             22            God Is A Woman              Ariana Grande   \n",
       "327891             22   I Wanna Get Next To You                 Rose Royce   \n",
       "327892             22          I Can't Stand It  Eric Clapton And His Band   \n",
       "327893             22  Here I Am Come & Take Me                   Al Green   \n",
       "327894             22                     Hawai        Maluma & The Weeknd   \n",
       "\n",
       "                                           SongID  Instance  \\\n",
       "327890                God Is A WomanAriana Grande         1   \n",
       "327891          I Wanna Get Next To YouRose Royce         1   \n",
       "327892  I Can't Stand ItEric Clapton And His Band         1   \n",
       "327893           Here I Am Come & Take MeAl Green         1   \n",
       "327894                   HawaiMaluma & The Weeknd         1   \n",
       "\n",
       "        Previous Week Position  Peak Position  Weeks on Chart  \n",
       "327890                    21.0              8              13  \n",
       "327891                    10.0             10              13  \n",
       "327892                    12.0             10              13  \n",
       "327893                    16.0             10              13  \n",
       "327894                    12.0             12              13  "
      ]
     },
     "execution_count": 2,
     "metadata": {},
     "output_type": "execute_result"
    }
   ],
   "source": [
    "bb = pd.read_csv(\"HotStuff.csv\")\n",
    "bb.tail()"
   ]
  },
  {
   "cell_type": "code",
   "execution_count": 3,
   "id": "f185672e-2379-4ae3-a025-9125a6bbe40d",
   "metadata": {},
   "outputs": [
    {
     "name": "stdout",
     "output_type": "stream",
     "text": [
      "<class 'pandas.core.frame.DataFrame'>\n",
      "RangeIndex: 327895 entries, 0 to 327894\n",
      "Data columns (total 10 columns):\n",
      " #   Column                  Non-Null Count   Dtype  \n",
      "---  ------                  --------------   -----  \n",
      " 0   url                     327895 non-null  object \n",
      " 1   WeekID                  327895 non-null  object \n",
      " 2   Week Position           327895 non-null  int64  \n",
      " 3   Song                    327895 non-null  object \n",
      " 4   Performer               327895 non-null  object \n",
      " 5   SongID                  327895 non-null  object \n",
      " 6   Instance                327895 non-null  int64  \n",
      " 7   Previous Week Position  295941 non-null  float64\n",
      " 8   Peak Position           327895 non-null  int64  \n",
      " 9   Weeks on Chart          327895 non-null  int64  \n",
      "dtypes: float64(1), int64(4), object(5)\n",
      "memory usage: 25.0+ MB\n"
     ]
    }
   ],
   "source": [
    "bb.info()"
   ]
  },
  {
   "cell_type": "markdown",
   "id": "58968f86-a22f-456f-ba50-e9ebea1de716",
   "metadata": {},
   "source": [
    "<h2>DATA CLEANING</h2>\n",
    "<b>To read the chart, it is a weekly chart consists of 100 songs from musicians. A total of 7 days from Sunday to next Saturday is used. For example, for week 6/11/2021 it starts on 31/10/2021.\n",
    "The latest week in the Billboard 100 is 11/6/2021 and the earliest is 8/4/1958.</b>"
   ]
  },
  {
   "cell_type": "markdown",
   "id": "2ce84fc0-984e-4c95-baca-675cfbecea21",
   "metadata": {},
   "source": [
    "The url column is of no use so will be removed. date data type will be changed to datetime.\n",
    "The dataset will also be reduced from 2010-2020"
   ]
  },
  {
   "cell_type": "code",
   "execution_count": 4,
   "id": "83ce8461-86db-4a47-a63e-fbcc0b145cf7",
   "metadata": {},
   "outputs": [
    {
     "data": {
      "text/plain": [
       "0         http://www.billboard.com/charts/hot-100/1965-0...\n",
       "1         http://www.billboard.com/charts/hot-100/1965-0...\n",
       "2         http://www.billboard.com/charts/hot-100/1965-0...\n",
       "3         http://www.billboard.com/charts/hot-100/1965-0...\n",
       "4         http://www.billboard.com/charts/hot-100/1965-0...\n",
       "                                ...                        \n",
       "327890    https://www.billboard.com/charts/hot-100/2018-...\n",
       "327891    http://www.billboard.com/charts/hot-100/1977-0...\n",
       "327892    http://www.billboard.com/charts/hot-100/1981-0...\n",
       "327893    http://www.billboard.com/charts/hot-100/1973-0...\n",
       "327894    https://www.billboard.com/charts/hot-100/2020-...\n",
       "Name: url, Length: 327895, dtype: object"
      ]
     },
     "execution_count": 4,
     "metadata": {},
     "output_type": "execute_result"
    }
   ],
   "source": [
    "bb.pop(\"url\")"
   ]
  },
  {
   "cell_type": "code",
   "execution_count": 5,
   "id": "b3ca9dee-c53a-4d7d-8e4f-baa03898e3ca",
   "metadata": {},
   "outputs": [
    {
     "name": "stdout",
     "output_type": "stream",
     "text": [
      "<class 'pandas.core.frame.DataFrame'>\n",
      "RangeIndex: 327895 entries, 0 to 327894\n",
      "Data columns (total 9 columns):\n",
      " #   Column                  Non-Null Count   Dtype  \n",
      "---  ------                  --------------   -----  \n",
      " 0   WeekID                  327895 non-null  object \n",
      " 1   Week Position           327895 non-null  int64  \n",
      " 2   Song                    327895 non-null  object \n",
      " 3   Performer               327895 non-null  object \n",
      " 4   SongID                  327895 non-null  object \n",
      " 5   Instance                327895 non-null  int64  \n",
      " 6   Previous Week Position  295941 non-null  float64\n",
      " 7   Peak Position           327895 non-null  int64  \n",
      " 8   Weeks on Chart          327895 non-null  int64  \n",
      "dtypes: float64(1), int64(4), object(4)\n",
      "memory usage: 22.5+ MB\n"
     ]
    }
   ],
   "source": [
    "bb.info()"
   ]
  },
  {
   "cell_type": "code",
   "execution_count": 6,
   "id": "0bf08702-36b4-439f-8085-656462d9e8a8",
   "metadata": {},
   "outputs": [
    {
     "data": {
      "text/plain": [
       "WeekID                        0\n",
       "Week Position                 0\n",
       "Song                          0\n",
       "Performer                     0\n",
       "SongID                        0\n",
       "Instance                      0\n",
       "Previous Week Position    31954\n",
       "Peak Position                 0\n",
       "Weeks on Chart                0\n",
       "dtype: int64"
      ]
     },
     "execution_count": 6,
     "metadata": {},
     "output_type": "execute_result"
    }
   ],
   "source": [
    "bb.isna().sum()"
   ]
  },
  {
   "cell_type": "code",
   "execution_count": 7,
   "id": "1ff80436-e0cc-4405-9b7b-f65509781296",
   "metadata": {},
   "outputs": [
    {
     "data": {
      "text/plain": [
       "<AxesSubplot:>"
      ]
     },
     "execution_count": 7,
     "metadata": {},
     "output_type": "execute_result"
    },
    {
     "data": {
      "image/png": "[encoded data removed]",
      "text/plain": [
       "<Figure size 576x576 with 1 Axes>"
      ]
     },
     "metadata": {
      "needs_background": "light"
     },
     "output_type": "display_data"
    }
   ],
   "source": [
    "plt.figure(figsize=(8,8))\n",
    "sns.heatmap(bb.isnull(),cbar=False,yticklabels=False)"
   ]
  },
  {
   "cell_type": "code",
   "execution_count": 8,
   "id": "390371e9-eb9e-4d72-8466-583793369f51",
   "metadata": {},
   "outputs": [
    {
     "data": {
      "text/plain": [
       "<AxesSubplot:>"
      ]
     },
     "execution_count": 8,
     "metadata": {},
     "output_type": "execute_result"
    },
    {
     "data": {
      "image/png": "[encoded data removed]",
      "text/plain": [
       "<Figure size 576x576 with 1 Axes>"
      ]
     },
     "metadata": {
      "needs_background": "light"
     },
     "output_type": "display_data"
    }
   ],
   "source": [
    "plt.figure(figsize=(8,8))\n",
    "bb['Previous Week Position'].fillna(0,inplace=True)\n",
    "sns.heatmap(bb.isnull(),cbar=False,yticklabels=False)"
   ]
  },
  {
   "cell_type": "code",
   "execution_count": 65,
   "id": "dc86d663-6888-41cc-b7e5-8bc7e2b318b7",
   "metadata": {},
   "outputs": [
    {
     "data": {
      "text/plain": [
       "WeekID                    0\n",
       "Week Position             0\n",
       "Song                      0\n",
       "Performer                 0\n",
       "SongID                    0\n",
       "Instance                  0\n",
       "Previous Week Position    0\n",
       "Peak Position             0\n",
       "Weeks on Chart            0\n",
       "year                      0\n",
       "month                     0\n",
       "day                       0\n",
       "dtype: int64"
      ]
     },
     "execution_count": 65,
     "metadata": {},
     "output_type": "execute_result"
    }
   ],
   "source": [
    "bb.isna().sum()"
   ]
  },
  {
   "cell_type": "code",
   "execution_count": 9,
   "id": "6c3aa34a-ee8f-4c97-b365-0d7f75761a30",
   "metadata": {},
   "outputs": [],
   "source": [
    "bb[\"WeekID\"] = pd.to_datetime(bb[\"WeekID\"])"
   ]
  },
  {
   "cell_type": "code",
   "execution_count": 10,
   "id": "d4b21156-975d-479a-aecd-20232822d557",
   "metadata": {},
   "outputs": [
    {
     "name": "stdout",
     "output_type": "stream",
     "text": [
      "<class 'pandas.core.frame.DataFrame'>\n",
      "RangeIndex: 327895 entries, 0 to 327894\n",
      "Data columns (total 9 columns):\n",
      " #   Column                  Non-Null Count   Dtype         \n",
      "---  ------                  --------------   -----         \n",
      " 0   WeekID                  327895 non-null  datetime64[ns]\n",
      " 1   Week Position           327895 non-null  int64         \n",
      " 2   Song                    327895 non-null  object        \n",
      " 3   Performer               327895 non-null  object        \n",
      " 4   SongID                  327895 non-null  object        \n",
      " 5   Instance                327895 non-null  int64         \n",
      " 6   Previous Week Position  327895 non-null  float64       \n",
      " 7   Peak Position           327895 non-null  int64         \n",
      " 8   Weeks on Chart          327895 non-null  int64         \n",
      "dtypes: datetime64[ns](1), float64(1), int64(4), object(3)\n",
      "memory usage: 22.5+ MB\n"
     ]
    }
   ],
   "source": [
    "bb.info()"
   ]
  },
  {
   "cell_type": "code",
   "execution_count": 11,
   "id": "680f90e5-4c34-4846-82c3-ffc3a8295f3a",
   "metadata": {},
   "outputs": [],
   "source": [
    "bb[\"year\"] = bb['WeekID'].dt.year\n",
    "bb['month'] = bb['WeekID'].dt.month\n",
    "bb['day'] = bb['WeekID'].dt.day"
   ]
  },
  {
   "cell_type": "code",
   "execution_count": 12,
   "id": "ee512554-7231-4ae5-9a18-5a5b6fd6a9ff",
   "metadata": {},
   "outputs": [
    {
     "name": "stdout",
     "output_type": "stream",
     "text": [
      "<class 'pandas.core.frame.DataFrame'>\n",
      "RangeIndex: 327895 entries, 0 to 327894\n",
      "Data columns (total 12 columns):\n",
      " #   Column                  Non-Null Count   Dtype         \n",
      "---  ------                  --------------   -----         \n",
      " 0   WeekID                  327895 non-null  datetime64[ns]\n",
      " 1   Week Position           327895 non-null  int64         \n",
      " 2   Song                    327895 non-null  object        \n",
      " 3   Performer               327895 non-null  object        \n",
      " 4   SongID                  327895 non-null  object        \n",
      " 5   Instance                327895 non-null  int64         \n",
      " 6   Previous Week Position  327895 non-null  float64       \n",
      " 7   Peak Position           327895 non-null  int64         \n",
      " 8   Weeks on Chart          327895 non-null  int64         \n",
      " 9   year                    327895 non-null  int64         \n",
      " 10  month                   327895 non-null  int64         \n",
      " 11  day                     327895 non-null  int64         \n",
      "dtypes: datetime64[ns](1), float64(1), int64(7), object(3)\n",
      "memory usage: 30.0+ MB\n"
     ]
    }
   ],
   "source": [
    "bb.info()"
   ]
  },
  {
   "cell_type": "markdown",
   "id": "1f6446f4-9e2b-4cce-a2db-7b6e72763d55",
   "metadata": {},
   "source": [
    "<b>Now, the dataset will be filtered based on the first week of 2000 and the last week of year 2020.</b>"
   ]
  },
  {
   "cell_type": "code",
   "execution_count": 13,
   "id": "7fbb7661-539b-466e-96b5-b4aad00a6fbd",
   "metadata": {},
   "outputs": [
    {
     "data": {
      "text/html": [
       "<div>\n",
       "<style scoped>\n",
       "    .dataframe tbody tr th:only-of-type {\n",
       "        vertical-align: middle;\n",
       "    }\n",
       "\n",
       "    .dataframe tbody tr th {\n",
       "        vertical-align: top;\n",
       "    }\n",
       "\n",
       "    .dataframe thead th {\n",
       "        text-align: right;\n",
       "    }\n",
       "</style>\n",
       "<table border=\"1\" class=\"dataframe\">\n",
       "  <thead>\n",
       "    <tr style=\"text-align: right;\">\n",
       "      <th></th>\n",
       "      <th>WeekID</th>\n",
       "      <th>Week Position</th>\n",
       "      <th>Song</th>\n",
       "      <th>Performer</th>\n",
       "      <th>SongID</th>\n",
       "      <th>Instance</th>\n",
       "      <th>Previous Week Position</th>\n",
       "      <th>Peak Position</th>\n",
       "      <th>Weeks on Chart</th>\n",
       "      <th>year</th>\n",
       "      <th>month</th>\n",
       "      <th>day</th>\n",
       "    </tr>\n",
       "  </thead>\n",
       "  <tbody>\n",
       "    <tr>\n",
       "      <th>327869</th>\n",
       "      <td>2010-05-15</td>\n",
       "      <td>21</td>\n",
       "      <td>I Made It (Cash Money Heroes)</td>\n",
       "      <td>Kevin Rudolf Featuring Birdman, Jay Sean, &amp; Li...</td>\n",
       "      <td>I Made It (Cash Money Heroes)Kevin Rudolf Feat...</td>\n",
       "      <td>1</td>\n",
       "      <td>23.0</td>\n",
       "      <td>21</td>\n",
       "      <td>13</td>\n",
       "      <td>2010</td>\n",
       "      <td>5</td>\n",
       "      <td>15</td>\n",
       "    </tr>\n",
       "    <tr>\n",
       "      <th>327872</th>\n",
       "      <td>2008-09-20</td>\n",
       "      <td>21</td>\n",
       "      <td>Fall For You</td>\n",
       "      <td>Secondhand Serenade</td>\n",
       "      <td>Fall For YouSecondhand Serenade</td>\n",
       "      <td>1</td>\n",
       "      <td>24.0</td>\n",
       "      <td>21</td>\n",
       "      <td>13</td>\n",
       "      <td>2008</td>\n",
       "      <td>9</td>\n",
       "      <td>20</td>\n",
       "    </tr>\n",
       "    <tr>\n",
       "      <th>327873</th>\n",
       "      <td>2018-05-19</td>\n",
       "      <td>21</td>\n",
       "      <td>Friends</td>\n",
       "      <td>Marshmello &amp; Anne-Marie</td>\n",
       "      <td>FriendsMarshmello &amp; Anne-Marie</td>\n",
       "      <td>1</td>\n",
       "      <td>25.0</td>\n",
       "      <td>21</td>\n",
       "      <td>13</td>\n",
       "      <td>2018</td>\n",
       "      <td>5</td>\n",
       "      <td>19</td>\n",
       "    </tr>\n",
       "    <tr>\n",
       "      <th>327890</th>\n",
       "      <td>2018-10-20</td>\n",
       "      <td>22</td>\n",
       "      <td>God Is A Woman</td>\n",
       "      <td>Ariana Grande</td>\n",
       "      <td>God Is A WomanAriana Grande</td>\n",
       "      <td>1</td>\n",
       "      <td>21.0</td>\n",
       "      <td>8</td>\n",
       "      <td>13</td>\n",
       "      <td>2018</td>\n",
       "      <td>10</td>\n",
       "      <td>20</td>\n",
       "    </tr>\n",
       "    <tr>\n",
       "      <th>327894</th>\n",
       "      <td>2020-11-28</td>\n",
       "      <td>22</td>\n",
       "      <td>Hawai</td>\n",
       "      <td>Maluma &amp; The Weeknd</td>\n",
       "      <td>HawaiMaluma &amp; The Weeknd</td>\n",
       "      <td>1</td>\n",
       "      <td>12.0</td>\n",
       "      <td>12</td>\n",
       "      <td>13</td>\n",
       "      <td>2020</td>\n",
       "      <td>11</td>\n",
       "      <td>28</td>\n",
       "    </tr>\n",
       "  </tbody>\n",
       "</table>\n",
       "</div>"
      ],
      "text/plain": [
       "           WeekID  Week Position                           Song  \\\n",
       "327869 2010-05-15             21  I Made It (Cash Money Heroes)   \n",
       "327872 2008-09-20             21                   Fall For You   \n",
       "327873 2018-05-19             21                        Friends   \n",
       "327890 2018-10-20             22                 God Is A Woman   \n",
       "327894 2020-11-28             22                          Hawai   \n",
       "\n",
       "                                                Performer  \\\n",
       "327869  Kevin Rudolf Featuring Birdman, Jay Sean, & Li...   \n",
       "327872                                Secondhand Serenade   \n",
       "327873                            Marshmello & Anne-Marie   \n",
       "327890                                      Ariana Grande   \n",
       "327894                                Maluma & The Weeknd   \n",
       "\n",
       "                                                   SongID  Instance  \\\n",
       "327869  I Made It (Cash Money Heroes)Kevin Rudolf Feat...         1   \n",
       "327872                    Fall For YouSecondhand Serenade         1   \n",
       "327873                     FriendsMarshmello & Anne-Marie         1   \n",
       "327890                        God Is A WomanAriana Grande         1   \n",
       "327894                           HawaiMaluma & The Weeknd         1   \n",
       "\n",
       "        Previous Week Position  Peak Position  Weeks on Chart  year  month  \\\n",
       "327869                    23.0             21              13  2010      5   \n",
       "327872                    24.0             21              13  2008      9   \n",
       "327873                    25.0             21              13  2018      5   \n",
       "327890                    21.0              8              13  2018     10   \n",
       "327894                    12.0             12              13  2020     11   \n",
       "\n",
       "        day  \n",
       "327869   15  \n",
       "327872   20  \n",
       "327873   19  \n",
       "327890   20  \n",
       "327894   28  "
      ]
     },
     "execution_count": 13,
     "metadata": {},
     "output_type": "execute_result"
    }
   ],
   "source": [
    "newbb = bb.loc[(bb['WeekID'] >= '2000-01-08') & (bb['WeekID'] <='2020-12-26')]\n",
    "newbb.tail()"
   ]
  },
  {
   "cell_type": "markdown",
   "id": "baf20fb4-abee-4a45-bdf2-ba05837c3eeb",
   "metadata": {},
   "source": [
    "<h2>Descriptive Questions</h2>\n",
    "<b>How many instances are there in the dataset?\n",
    "How many musicians are in the chart?</b>"
   ]
  },
  {
   "cell_type": "code",
   "execution_count": 14,
   "id": "9f7a7218-cc05-414a-8bb2-813ac0f20db8",
   "metadata": {},
   "outputs": [
    {
     "data": {
      "text/plain": [
       "(109500, 12)"
      ]
     },
     "execution_count": 14,
     "metadata": {},
     "output_type": "execute_result"
    }
   ],
   "source": [
    "newbb.shape"
   ]
  },
  {
   "cell_type": "code",
   "execution_count": 15,
   "id": "337c7946-21a4-4c50-af59-d3214746a7d7",
   "metadata": {},
   "outputs": [
    {
     "name": "stdout",
     "output_type": "stream",
     "text": [
      "<class 'pandas.core.frame.DataFrame'>\n",
      "Int64Index: 109500 entries, 87 to 327894\n",
      "Data columns (total 12 columns):\n",
      " #   Column                  Non-Null Count   Dtype         \n",
      "---  ------                  --------------   -----         \n",
      " 0   WeekID                  109500 non-null  datetime64[ns]\n",
      " 1   Week Position           109500 non-null  int64         \n",
      " 2   Song                    109500 non-null  object        \n",
      " 3   Performer               109500 non-null  object        \n",
      " 4   SongID                  109500 non-null  object        \n",
      " 5   Instance                109500 non-null  int64         \n",
      " 6   Previous Week Position  109500 non-null  float64       \n",
      " 7   Peak Position           109500 non-null  int64         \n",
      " 8   Weeks on Chart          109500 non-null  int64         \n",
      " 9   year                    109500 non-null  int64         \n",
      " 10  month                   109500 non-null  int64         \n",
      " 11  day                     109500 non-null  int64         \n",
      "dtypes: datetime64[ns](1), float64(1), int64(7), object(3)\n",
      "memory usage: 10.9+ MB\n"
     ]
    }
   ],
   "source": [
    "newbb.info()"
   ]
  },
  {
   "cell_type": "code",
   "execution_count": 16,
   "id": "bf99d69c-a97e-4f07-830c-89b523bf14f4",
   "metadata": {},
   "outputs": [
    {
     "data": {
      "text/plain": [
       "WeekID                    0\n",
       "Week Position             0\n",
       "Song                      0\n",
       "Performer                 0\n",
       "SongID                    0\n",
       "Instance                  0\n",
       "Previous Week Position    0\n",
       "Peak Position             0\n",
       "Weeks on Chart            0\n",
       "year                      0\n",
       "month                     0\n",
       "day                       0\n",
       "dtype: int64"
      ]
     },
     "execution_count": 16,
     "metadata": {},
     "output_type": "execute_result"
    }
   ],
   "source": [
    "newbb.isna().sum()"
   ]
  },
  {
   "cell_type": "markdown",
   "id": "3ffdd70c-6b63-491c-98b2-4bdcb8c71e26",
   "metadata": {},
   "source": [
    "After the data cleaning has been done, it is then moved into a new csv file called Billboard3. It contains the information Billboard Hot 100 charts from year 2000 until 2020."
   ]
  },
  {
   "cell_type": "code",
   "execution_count": 17,
   "id": "2933ac1f-2ab3-47b4-a9ef-f3784ea42b40",
   "metadata": {},
   "outputs": [],
   "source": [
    "newbb.to_csv(\"billboard3.csv\")"
   ]
  },
  {
   "cell_type": "markdown",
   "id": "f2d8d876-0d85-491e-a2d3-e14c25dadef7",
   "metadata": {},
   "source": [
    "<h2> Exploratory Data Analysis</h2>\n",
    "<b> \n",
    "Exploratory Questions:<br>\n",
    "Which songs spent the longest time being in the chart?<br>\n",
    "Which musicians spent the longest time being in the chart?<br>\n",
    "Which musicians that ranks #1 the longest in the chart?<br>\n",
    "</b>"
   ]
  },
  {
   "cell_type": "code",
   "execution_count": 18,
   "id": "6a8ea202-9e7a-48f3-b932-7fa4c4e98e0b",
   "metadata": {},
   "outputs": [
    {
     "data": {
      "text/html": [
       "<div>\n",
       "<style scoped>\n",
       "    .dataframe tbody tr th:only-of-type {\n",
       "        vertical-align: middle;\n",
       "    }\n",
       "\n",
       "    .dataframe tbody tr th {\n",
       "        vertical-align: top;\n",
       "    }\n",
       "\n",
       "    .dataframe thead th {\n",
       "        text-align: right;\n",
       "    }\n",
       "</style>\n",
       "<table border=\"1\" class=\"dataframe\">\n",
       "  <thead>\n",
       "    <tr style=\"text-align: right;\">\n",
       "      <th></th>\n",
       "      <th>Week Position</th>\n",
       "      <th>Instance</th>\n",
       "      <th>Previous Week Position</th>\n",
       "      <th>Peak Position</th>\n",
       "      <th>Weeks on Chart</th>\n",
       "      <th>year</th>\n",
       "      <th>month</th>\n",
       "      <th>day</th>\n",
       "    </tr>\n",
       "  </thead>\n",
       "  <tbody>\n",
       "    <tr>\n",
       "      <th>count</th>\n",
       "      <td>109500.000000</td>\n",
       "      <td>109500.000000</td>\n",
       "      <td>109500.000000</td>\n",
       "      <td>109500.000000</td>\n",
       "      <td>109500.000000</td>\n",
       "      <td>109500.000000</td>\n",
       "      <td>109500.000000</td>\n",
       "      <td>109500.000000</td>\n",
       "    </tr>\n",
       "    <tr>\n",
       "      <th>mean</th>\n",
       "      <td>50.500000</td>\n",
       "      <td>1.168795</td>\n",
       "      <td>43.093927</td>\n",
       "      <td>39.857233</td>\n",
       "      <td>11.767726</td>\n",
       "      <td>2010.001826</td>\n",
       "      <td>6.533333</td>\n",
       "      <td>15.734247</td>\n",
       "    </tr>\n",
       "    <tr>\n",
       "      <th>std</th>\n",
       "      <td>28.866202</td>\n",
       "      <td>0.504115</td>\n",
       "      <td>30.068318</td>\n",
       "      <td>29.402516</td>\n",
       "      <td>9.387082</td>\n",
       "      <td>6.051707</td>\n",
       "      <td>3.447009</td>\n",
       "      <td>8.796556</td>\n",
       "    </tr>\n",
       "    <tr>\n",
       "      <th>min</th>\n",
       "      <td>1.000000</td>\n",
       "      <td>1.000000</td>\n",
       "      <td>0.000000</td>\n",
       "      <td>1.000000</td>\n",
       "      <td>1.000000</td>\n",
       "      <td>2000.000000</td>\n",
       "      <td>1.000000</td>\n",
       "      <td>1.000000</td>\n",
       "    </tr>\n",
       "    <tr>\n",
       "      <th>25%</th>\n",
       "      <td>25.750000</td>\n",
       "      <td>1.000000</td>\n",
       "      <td>16.000000</td>\n",
       "      <td>12.000000</td>\n",
       "      <td>5.000000</td>\n",
       "      <td>2005.000000</td>\n",
       "      <td>4.000000</td>\n",
       "      <td>8.000000</td>\n",
       "    </tr>\n",
       "    <tr>\n",
       "      <th>50%</th>\n",
       "      <td>50.500000</td>\n",
       "      <td>1.000000</td>\n",
       "      <td>42.000000</td>\n",
       "      <td>37.000000</td>\n",
       "      <td>10.000000</td>\n",
       "      <td>2010.000000</td>\n",
       "      <td>7.000000</td>\n",
       "      <td>16.000000</td>\n",
       "    </tr>\n",
       "    <tr>\n",
       "      <th>75%</th>\n",
       "      <td>75.250000</td>\n",
       "      <td>1.000000</td>\n",
       "      <td>69.000000</td>\n",
       "      <td>64.000000</td>\n",
       "      <td>17.000000</td>\n",
       "      <td>2015.000000</td>\n",
       "      <td>10.000000</td>\n",
       "      <td>23.000000</td>\n",
       "    </tr>\n",
       "    <tr>\n",
       "      <th>max</th>\n",
       "      <td>100.000000</td>\n",
       "      <td>10.000000</td>\n",
       "      <td>100.000000</td>\n",
       "      <td>100.000000</td>\n",
       "      <td>87.000000</td>\n",
       "      <td>2020.000000</td>\n",
       "      <td>12.000000</td>\n",
       "      <td>31.000000</td>\n",
       "    </tr>\n",
       "  </tbody>\n",
       "</table>\n",
       "</div>"
      ],
      "text/plain": [
       "       Week Position       Instance  Previous Week Position  Peak Position  \\\n",
       "count  109500.000000  109500.000000           109500.000000  109500.000000   \n",
       "mean       50.500000       1.168795               43.093927      39.857233   \n",
       "std        28.866202       0.504115               30.068318      29.402516   \n",
       "min         1.000000       1.000000                0.000000       1.000000   \n",
       "25%        25.750000       1.000000               16.000000      12.000000   \n",
       "50%        50.500000       1.000000               42.000000      37.000000   \n",
       "75%        75.250000       1.000000               69.000000      64.000000   \n",
       "max       100.000000      10.000000              100.000000     100.000000   \n",
       "\n",
       "       Weeks on Chart           year          month            day  \n",
       "count   109500.000000  109500.000000  109500.000000  109500.000000  \n",
       "mean        11.767726    2010.001826       6.533333      15.734247  \n",
       "std          9.387082       6.051707       3.447009       8.796556  \n",
       "min          1.000000    2000.000000       1.000000       1.000000  \n",
       "25%          5.000000    2005.000000       4.000000       8.000000  \n",
       "50%         10.000000    2010.000000       7.000000      16.000000  \n",
       "75%         17.000000    2015.000000      10.000000      23.000000  \n",
       "max         87.000000    2020.000000      12.000000      31.000000  "
      ]
     },
     "execution_count": 18,
     "metadata": {},
     "output_type": "execute_result"
    }
   ],
   "source": [
    "newbb.describe()"
   ]
  },
  {
   "cell_type": "code",
   "execution_count": 19,
   "id": "0be912f3-f8e6-4705-b66f-8f52e9f0fb3c",
   "metadata": {},
   "outputs": [
    {
     "data": {
      "text/plain": [
       "Taylor Swift                                                           991\n",
       "Drake                                                                  735\n",
       "Kenny Chesney                                                          695\n",
       "Keith Urban                                                            673\n",
       "Rascal Flatts                                                          602\n",
       "                                                                      ... \n",
       "alt-J                                                                    1\n",
       "Empire Cast Featuring Jussie Smollett                                    1\n",
       "Kendrick Lamar Featuring Bilal, Anna Wise & Snoop Dogg                   1\n",
       "Lil Yachty & Tierra Whack Featuring A$AP Rocky & Tyler, The Creator      1\n",
       "Nicole Scherzinger                                                       1\n",
       "Name: Performer, Length: 3947, dtype: int64"
      ]
     },
     "execution_count": 19,
     "metadata": {},
     "output_type": "execute_result"
    }
   ],
   "source": [
    "newbb['Performer'].value_counts()"
   ]
  },
  {
   "cell_type": "code",
   "execution_count": 20,
   "id": "fb1fe02d-c9c9-4ee9-ad5f-5f82e4f3cefb",
   "metadata": {},
   "outputs": [
    {
     "data": {
      "image/png": "[encoded data removed]",
      "text/plain": [
       "<Figure size 1080x720 with 1 Axes>"
      ]
     },
     "metadata": {
      "needs_background": "light"
     },
     "output_type": "display_data"
    }
   ],
   "source": [
    "top10songs = newbb[[\"Performer\", \"Song\",\"Weeks on Chart\"]]\n",
    "\n",
    "top10songs = top10songs.groupby([\"Performer\", \"Song\"]).max().nlargest(10, \"Weeks on Chart\").reset_index()\n",
    "\n",
    "plt.figure(figsize=(15,10))\n",
    "ax = sns.barplot(y = \"Song\", x = \"Weeks on Chart\", data = top10songs, color = \"pink\" )\n",
    "plt.title(\"Top 10 Songs Based on Weeks on Chart Spent on Billboard Hot 100\")\n",
    "plt.savefig(\"Top10SongsBasedonWeeksonChartSpentonBillboardHot100.png\")"
   ]
  },
  {
   "cell_type": "code",
   "execution_count": 21,
   "id": "914a7c26-ac89-459d-aab3-f89d4bfb82ef",
   "metadata": {},
   "outputs": [
    {
     "data": {
      "text/html": [
       "<div>\n",
       "<style scoped>\n",
       "    .dataframe tbody tr th:only-of-type {\n",
       "        vertical-align: middle;\n",
       "    }\n",
       "\n",
       "    .dataframe tbody tr th {\n",
       "        vertical-align: top;\n",
       "    }\n",
       "\n",
       "    .dataframe thead th {\n",
       "        text-align: right;\n",
       "    }\n",
       "</style>\n",
       "<table border=\"1\" class=\"dataframe\">\n",
       "  <thead>\n",
       "    <tr style=\"text-align: right;\">\n",
       "      <th></th>\n",
       "      <th>Performer</th>\n",
       "      <th>Song</th>\n",
       "      <th>Weeks on Chart</th>\n",
       "    </tr>\n",
       "  </thead>\n",
       "  <tbody>\n",
       "    <tr>\n",
       "      <th>0</th>\n",
       "      <td>Imagine Dragons</td>\n",
       "      <td>Radioactive</td>\n",
       "      <td>87</td>\n",
       "    </tr>\n",
       "    <tr>\n",
       "      <th>1</th>\n",
       "      <td>AWOLNATION</td>\n",
       "      <td>Sail</td>\n",
       "      <td>79</td>\n",
       "    </tr>\n",
       "    <tr>\n",
       "      <th>2</th>\n",
       "      <td>Jason Mraz</td>\n",
       "      <td>I'm Yours</td>\n",
       "      <td>76</td>\n",
       "    </tr>\n",
       "    <tr>\n",
       "      <th>3</th>\n",
       "      <td>LMFAO Featuring Lauren Bennett &amp; GoonRock</td>\n",
       "      <td>Party Rock Anthem</td>\n",
       "      <td>68</td>\n",
       "    </tr>\n",
       "    <tr>\n",
       "      <th>4</th>\n",
       "      <td>OneRepublic</td>\n",
       "      <td>Counting Stars</td>\n",
       "      <td>68</td>\n",
       "    </tr>\n",
       "    <tr>\n",
       "      <th>5</th>\n",
       "      <td>Adele</td>\n",
       "      <td>Rolling In The Deep</td>\n",
       "      <td>65</td>\n",
       "    </tr>\n",
       "    <tr>\n",
       "      <th>6</th>\n",
       "      <td>Carrie Underwood</td>\n",
       "      <td>Before He Cheats</td>\n",
       "      <td>64</td>\n",
       "    </tr>\n",
       "    <tr>\n",
       "      <th>7</th>\n",
       "      <td>Lifehouse</td>\n",
       "      <td>You And Me</td>\n",
       "      <td>62</td>\n",
       "    </tr>\n",
       "    <tr>\n",
       "      <th>8</th>\n",
       "      <td>The Lumineers</td>\n",
       "      <td>Ho Hey</td>\n",
       "      <td>62</td>\n",
       "    </tr>\n",
       "    <tr>\n",
       "      <th>9</th>\n",
       "      <td>Imagine Dragons</td>\n",
       "      <td>Demons</td>\n",
       "      <td>61</td>\n",
       "    </tr>\n",
       "  </tbody>\n",
       "</table>\n",
       "</div>"
      ],
      "text/plain": [
       "                                   Performer                 Song  \\\n",
       "0                            Imagine Dragons          Radioactive   \n",
       "1                                 AWOLNATION                 Sail   \n",
       "2                                 Jason Mraz            I'm Yours   \n",
       "3  LMFAO Featuring Lauren Bennett & GoonRock    Party Rock Anthem   \n",
       "4                                OneRepublic       Counting Stars   \n",
       "5                                      Adele  Rolling In The Deep   \n",
       "6                           Carrie Underwood     Before He Cheats   \n",
       "7                                  Lifehouse           You And Me   \n",
       "8                              The Lumineers               Ho Hey   \n",
       "9                            Imagine Dragons               Demons   \n",
       "\n",
       "   Weeks on Chart  \n",
       "0              87  \n",
       "1              79  \n",
       "2              76  \n",
       "3              68  \n",
       "4              68  \n",
       "5              65  \n",
       "6              64  \n",
       "7              62  \n",
       "8              62  \n",
       "9              61  "
      ]
     },
     "execution_count": 21,
     "metadata": {},
     "output_type": "execute_result"
    }
   ],
   "source": [
    "top10songs.head(10)"
   ]
  },
  {
   "cell_type": "code",
   "execution_count": 22,
   "id": "9a8e798e-93c7-474b-bd04-067755b23f87",
   "metadata": {},
   "outputs": [
    {
     "data": {
      "image/png": "[encoded data removed]",
      "text/plain": [
       "<Figure size 1080x720 with 1 Axes>"
      ]
     },
     "metadata": {
      "needs_background": "light"
     },
     "output_type": "display_data"
    }
   ],
   "source": [
    "top10artist = newbb[[\"Performer\", \"Song\",\"Weeks on Chart\"]]\n",
    "top10artist = top10artist.groupby([\"Performer\", \"Song\"]).max().reset_index()\n",
    "\n",
    "top10artist = top10artist.groupby([\"Performer\"]).sum().nlargest(10, \"Weeks on Chart\").reset_index()\n",
    "\n",
    "plt.figure(figsize=(15,10))\n",
    "ax = sns.barplot(y = \"Performer\", x = \"Weeks on Chart\", data = top10artist, color = \"maroon\" )\n",
    "plt.title(\"Top 10 Musicians Based on Weeks on Chart Spent on Billboard Hot 100\")\n",
    "plt.savefig(\"Top10MusiciansBasedonWeeksonChartSpentonBillboardHot100.png\")"
   ]
  },
  {
   "cell_type": "code",
   "execution_count": 23,
   "id": "02c67856-d009-4830-b511-41e3541a1105",
   "metadata": {},
   "outputs": [
    {
     "data": {
      "text/html": [
       "<div>\n",
       "<style scoped>\n",
       "    .dataframe tbody tr th:only-of-type {\n",
       "        vertical-align: middle;\n",
       "    }\n",
       "\n",
       "    .dataframe tbody tr th {\n",
       "        vertical-align: top;\n",
       "    }\n",
       "\n",
       "    .dataframe thead th {\n",
       "        text-align: right;\n",
       "    }\n",
       "</style>\n",
       "<table border=\"1\" class=\"dataframe\">\n",
       "  <thead>\n",
       "    <tr style=\"text-align: right;\">\n",
       "      <th></th>\n",
       "      <th>Performer</th>\n",
       "      <th>Weeks on Chart</th>\n",
       "    </tr>\n",
       "  </thead>\n",
       "  <tbody>\n",
       "    <tr>\n",
       "      <th>0</th>\n",
       "      <td>Taylor Swift</td>\n",
       "      <td>991</td>\n",
       "    </tr>\n",
       "    <tr>\n",
       "      <th>1</th>\n",
       "      <td>Drake</td>\n",
       "      <td>735</td>\n",
       "    </tr>\n",
       "    <tr>\n",
       "      <th>2</th>\n",
       "      <td>Kenny Chesney</td>\n",
       "      <td>702</td>\n",
       "    </tr>\n",
       "    <tr>\n",
       "      <th>3</th>\n",
       "      <td>Keith Urban</td>\n",
       "      <td>673</td>\n",
       "    </tr>\n",
       "    <tr>\n",
       "      <th>4</th>\n",
       "      <td>Rascal Flatts</td>\n",
       "      <td>602</td>\n",
       "    </tr>\n",
       "    <tr>\n",
       "      <th>5</th>\n",
       "      <td>Tim McGraw</td>\n",
       "      <td>597</td>\n",
       "    </tr>\n",
       "    <tr>\n",
       "      <th>6</th>\n",
       "      <td>Rihanna</td>\n",
       "      <td>566</td>\n",
       "    </tr>\n",
       "    <tr>\n",
       "      <th>7</th>\n",
       "      <td>P!nk</td>\n",
       "      <td>559</td>\n",
       "    </tr>\n",
       "    <tr>\n",
       "      <th>8</th>\n",
       "      <td>Jason Aldean</td>\n",
       "      <td>555</td>\n",
       "    </tr>\n",
       "    <tr>\n",
       "      <th>9</th>\n",
       "      <td>Brad Paisley</td>\n",
       "      <td>546</td>\n",
       "    </tr>\n",
       "  </tbody>\n",
       "</table>\n",
       "</div>"
      ],
      "text/plain": [
       "       Performer  Weeks on Chart\n",
       "0   Taylor Swift             991\n",
       "1          Drake             735\n",
       "2  Kenny Chesney             702\n",
       "3    Keith Urban             673\n",
       "4  Rascal Flatts             602\n",
       "5     Tim McGraw             597\n",
       "6        Rihanna             566\n",
       "7           P!nk             559\n",
       "8   Jason Aldean             555\n",
       "9   Brad Paisley             546"
      ]
     },
     "execution_count": 23,
     "metadata": {},
     "output_type": "execute_result"
    }
   ],
   "source": [
    "top10artist.head(10)"
   ]
  },
  {
   "cell_type": "code",
   "execution_count": 24,
   "id": "924d0666-657c-414b-bb32-5e5f60219721",
   "metadata": {},
   "outputs": [
    {
     "data": {
      "text/html": [
       "<div>\n",
       "<style scoped>\n",
       "    .dataframe tbody tr th:only-of-type {\n",
       "        vertical-align: middle;\n",
       "    }\n",
       "\n",
       "    .dataframe tbody tr th {\n",
       "        vertical-align: top;\n",
       "    }\n",
       "\n",
       "    .dataframe thead th {\n",
       "        text-align: right;\n",
       "    }\n",
       "</style>\n",
       "<table border=\"1\" class=\"dataframe\">\n",
       "  <thead>\n",
       "    <tr style=\"text-align: right;\">\n",
       "      <th></th>\n",
       "      <th>Week Position</th>\n",
       "    </tr>\n",
       "    <tr>\n",
       "      <th>Performer</th>\n",
       "      <th></th>\n",
       "    </tr>\n",
       "  </thead>\n",
       "  <tbody>\n",
       "    <tr>\n",
       "      <th>Drake</th>\n",
       "      <td>30</td>\n",
       "    </tr>\n",
       "    <tr>\n",
       "      <th>The Black Eyed Peas</th>\n",
       "      <td>28</td>\n",
       "    </tr>\n",
       "    <tr>\n",
       "      <th>Adele</th>\n",
       "      <td>24</td>\n",
       "    </tr>\n",
       "    <tr>\n",
       "      <th>Mariah Carey</th>\n",
       "      <td>22</td>\n",
       "    </tr>\n",
       "    <tr>\n",
       "      <th>Usher</th>\n",
       "      <td>20</td>\n",
       "    </tr>\n",
       "    <tr>\n",
       "      <th>Taylor Swift</th>\n",
       "      <td>19</td>\n",
       "    </tr>\n",
       "    <tr>\n",
       "      <th>Lil Nas X Featuring Billy Ray Cyrus</th>\n",
       "      <td>19</td>\n",
       "    </tr>\n",
       "    <tr>\n",
       "      <th>Katy Perry</th>\n",
       "      <td>18</td>\n",
       "    </tr>\n",
       "    <tr>\n",
       "      <th>Ed Sheeran</th>\n",
       "      <td>17</td>\n",
       "    </tr>\n",
       "    <tr>\n",
       "      <th>Bruno Mars</th>\n",
       "      <td>16</td>\n",
       "    </tr>\n",
       "  </tbody>\n",
       "</table>\n",
       "</div>"
      ],
      "text/plain": [
       "                                     Week Position\n",
       "Performer                                         \n",
       "Drake                                           30\n",
       "The Black Eyed Peas                             28\n",
       "Adele                                           24\n",
       "Mariah Carey                                    22\n",
       "Usher                                           20\n",
       "Taylor Swift                                    19\n",
       "Lil Nas X Featuring Billy Ray Cyrus             19\n",
       "Katy Perry                                      18\n",
       "Ed Sheeran                                      17\n",
       "Bruno Mars                                      16"
      ]
     },
     "execution_count": 24,
     "metadata": {},
     "output_type": "execute_result"
    }
   ],
   "source": [
    "top1artists = newbb[newbb['Week Position']==1] # extract the artists who ranked first place\n",
    "top1artists = top1artists.groupby('Performer').sum() # sum of the rank\n",
    "top1artists[['Week Position']].sort_values('Week Position', ascending = False).head(10)"
   ]
  },
  {
   "cell_type": "code",
   "execution_count": 25,
   "id": "8ca59165-aae2-40a9-873f-c9ed7f46ed6a",
   "metadata": {},
   "outputs": [
    {
     "data": {
      "image/png": "[encoded data removed]",
      "text/plain": [
       "<Figure size 1080x720 with 1 Axes>"
      ]
     },
     "metadata": {
      "needs_background": "light"
     },
     "output_type": "display_data"
    }
   ],
   "source": [
    "top1artists[['Week Position']].sort_values('Week Position', ascending = False).head(10).plot(title=\"Musicians that Rank #1 The Longest in Billboard Hot 100\",kind=\"barh\", figsize=(15,10), color=\"purple\")\n",
    "plt.savefig(\"Musicians that Rank #1 The Longest in Billboard Hot 100.png\")"
   ]
  },
  {
   "cell_type": "markdown",
   "id": "4612162a-1873-4aad-b983-edc12c0ecc8b",
   "metadata": {},
   "source": [
    "<h2>Predictive Questions: </h2>\n",
    "<b>What is the most important features in predicting if a song would become a Number One Hit?</b>"
   ]
  },
  {
   "cell_type": "code",
   "execution_count": 26,
   "id": "163dfdb4-d758-4d44-b33d-f3afc146dbaf",
   "metadata": {},
   "outputs": [],
   "source": [
    "spotify = pd.read_csv(\"Hot100AudioFeatures.csv\")"
   ]
  },
  {
   "cell_type": "code",
   "execution_count": 27,
   "id": "706526a6-d80a-46a5-acb2-d95a7f1364ea",
   "metadata": {},
   "outputs": [
    {
     "name": "stdout",
     "output_type": "stream",
     "text": [
      "<class 'pandas.core.frame.DataFrame'>\n",
      "RangeIndex: 29503 entries, 0 to 29502\n",
      "Data columns (total 22 columns):\n",
      " #   Column                     Non-Null Count  Dtype  \n",
      "---  ------                     --------------  -----  \n",
      " 0   SongID                     29503 non-null  object \n",
      " 1   Performer                  29503 non-null  object \n",
      " 2   Song                       29503 non-null  object \n",
      " 3   spotify_genre              27903 non-null  object \n",
      " 4   spotify_track_id           24397 non-null  object \n",
      " 5   spotify_track_preview_url  14491 non-null  object \n",
      " 6   spotify_track_duration_ms  24397 non-null  float64\n",
      " 7   spotify_track_explicit     24397 non-null  object \n",
      " 8   spotify_track_album        24391 non-null  object \n",
      " 9   danceability               24334 non-null  float64\n",
      " 10  energy                     24334 non-null  float64\n",
      " 11  key                        24334 non-null  float64\n",
      " 12  loudness                   24334 non-null  float64\n",
      " 13  mode                       24334 non-null  float64\n",
      " 14  speechiness                24334 non-null  float64\n",
      " 15  acousticness               24334 non-null  float64\n",
      " 16  instrumentalness           24334 non-null  float64\n",
      " 17  liveness                   24334 non-null  float64\n",
      " 18  valence                    24334 non-null  float64\n",
      " 19  tempo                      24334 non-null  float64\n",
      " 20  time_signature             24334 non-null  float64\n",
      " 21  spotify_track_popularity   24397 non-null  float64\n",
      "dtypes: float64(14), object(8)\n",
      "memory usage: 5.0+ MB\n"
     ]
    }
   ],
   "source": [
    "spotify.info()"
   ]
  },
  {
   "cell_type": "markdown",
   "id": "567128ae-9bfc-4853-a0dc-cae79dd24d54",
   "metadata": {},
   "source": [
    "Filtering any NaN values since NaN values cannot be an indicator of what makes a song number 1."
   ]
  },
  {
   "cell_type": "code",
   "execution_count": 28,
   "id": "c4691bfb-eeae-4c16-b9f3-bb3adcbc6be8",
   "metadata": {},
   "outputs": [],
   "source": [
    "spotify = spotify.dropna()"
   ]
  },
  {
   "cell_type": "markdown",
   "id": "f2934767-6684-4218-8d03-716905ebe713",
   "metadata": {},
   "source": [
    "These columns are changed so that it can be normalized later."
   ]
  },
  {
   "cell_type": "code",
   "execution_count": 29,
   "id": "21c227f7-b640-468d-b720-c4fc6f59fdc1",
   "metadata": {},
   "outputs": [
    {
     "name": "stdout",
     "output_type": "stream",
     "text": [
      "<class 'pandas.core.frame.DataFrame'>\n",
      "Int64Index: 14365 entries, 2 to 29502\n",
      "Data columns (total 22 columns):\n",
      " #   Column                     Non-Null Count  Dtype  \n",
      "---  ------                     --------------  -----  \n",
      " 0   SongID                     14365 non-null  object \n",
      " 1   Performer                  14365 non-null  object \n",
      " 2   Song                       14365 non-null  object \n",
      " 3   spotify_genre              14365 non-null  object \n",
      " 4   spotify_track_id           14365 non-null  object \n",
      " 5   spotify_track_preview_url  14365 non-null  object \n",
      " 6   spotify_track_duration_ms  14365 non-null  float64\n",
      " 7   spotify_track_explicit     14365 non-null  object \n",
      " 8   spotify_track_album        14365 non-null  object \n",
      " 9   danceability               14365 non-null  float64\n",
      " 10  energy                     14365 non-null  float64\n",
      " 11  key                        14365 non-null  object \n",
      " 12  loudness                   14365 non-null  float64\n",
      " 13  mode                       14365 non-null  object \n",
      " 14  speechiness                14365 non-null  float64\n",
      " 15  acousticness               14365 non-null  float64\n",
      " 16  instrumentalness           14365 non-null  float64\n",
      " 17  liveness                   14365 non-null  float64\n",
      " 18  valence                    14365 non-null  float64\n",
      " 19  tempo                      14365 non-null  float64\n",
      " 20  time_signature             14365 non-null  object \n",
      " 21  spotify_track_popularity   14365 non-null  float64\n",
      "dtypes: float64(11), object(11)\n",
      "memory usage: 2.5+ MB\n"
     ]
    }
   ],
   "source": [
    "spotify['time_signature'] = spotify['time_signature'].astype(int).astype(str)\n",
    "spotify['mode'] = spotify['mode'].astype(int).astype(str)\n",
    "spotify['key'] = spotify['key'].astype(int).astype(str)\n",
    "spotify.info()"
   ]
  },
  {
   "cell_type": "code",
   "execution_count": 30,
   "id": "1cd99fed-83d9-460d-824d-004296bdf49d",
   "metadata": {},
   "outputs": [],
   "source": [
    "x = spotify[[\"instrumentalness\", \"speechiness\", \"liveness\", \"acousticness\",\"tempo\" , \"danceability\", \"valence\",\"energy\", \"loudness\"]]\n",
    "y = x.values\n",
    "min_max_scaler = preprocessing.MinMaxScaler()\n",
    "y_scaled = min_max_scaler.fit_transform(y)\n",
    "z = pd.DataFrame(y_scaled)\n",
    "z.columns = [\"instrumentalness\", \"speechiness\", \"liveness\", \"acousticness\",\"tempo\" , \"danceability\", \"valence\",\"energy\", \"loudness\"]"
   ]
  },
  {
   "cell_type": "code",
   "execution_count": 31,
   "id": "024183f4-fbfd-42f5-9a46-684935464c3f",
   "metadata": {},
   "outputs": [
    {
     "data": {
      "text/html": [
       "<div>\n",
       "<style scoped>\n",
       "    .dataframe tbody tr th:only-of-type {\n",
       "        vertical-align: middle;\n",
       "    }\n",
       "\n",
       "    .dataframe tbody tr th {\n",
       "        vertical-align: top;\n",
       "    }\n",
       "\n",
       "    .dataframe thead th {\n",
       "        text-align: right;\n",
       "    }\n",
       "</style>\n",
       "<table border=\"1\" class=\"dataframe\">\n",
       "  <thead>\n",
       "    <tr style=\"text-align: right;\">\n",
       "      <th></th>\n",
       "      <th>instrumentalness</th>\n",
       "      <th>speechiness</th>\n",
       "      <th>liveness</th>\n",
       "      <th>acousticness</th>\n",
       "      <th>tempo</th>\n",
       "      <th>danceability</th>\n",
       "      <th>valence</th>\n",
       "      <th>energy</th>\n",
       "      <th>loudness</th>\n",
       "    </tr>\n",
       "  </thead>\n",
       "  <tbody>\n",
       "    <tr>\n",
       "      <th>0</th>\n",
       "      <td>0.000272</td>\n",
       "      <td>0.034091</td>\n",
       "      <td>0.103434</td>\n",
       "      <td>0.920202</td>\n",
       "      <td>0.359720</td>\n",
       "      <td>0.156187</td>\n",
       "      <td>0.151362</td>\n",
       "      <td>0.185082</td>\n",
       "      <td>0.460638</td>\n",
       "    </tr>\n",
       "    <tr>\n",
       "      <th>1</th>\n",
       "      <td>0.000133</td>\n",
       "      <td>0.033225</td>\n",
       "      <td>0.438003</td>\n",
       "      <td>0.204036</td>\n",
       "      <td>0.398237</td>\n",
       "      <td>0.769777</td>\n",
       "      <td>0.915237</td>\n",
       "      <td>0.700929</td>\n",
       "      <td>0.734969</td>\n",
       "    </tr>\n",
       "    <tr>\n",
       "      <th>2</th>\n",
       "      <td>0.000006</td>\n",
       "      <td>0.029654</td>\n",
       "      <td>0.124660</td>\n",
       "      <td>0.436360</td>\n",
       "      <td>0.666999</td>\n",
       "      <td>0.656187</td>\n",
       "      <td>0.960646</td>\n",
       "      <td>0.687882</td>\n",
       "      <td>0.784374</td>\n",
       "    </tr>\n",
       "    <tr>\n",
       "      <th>3</th>\n",
       "      <td>0.000036</td>\n",
       "      <td>0.034416</td>\n",
       "      <td>0.099390</td>\n",
       "      <td>0.840403</td>\n",
       "      <td>0.604672</td>\n",
       "      <td>0.456389</td>\n",
       "      <td>0.147326</td>\n",
       "      <td>0.294474</td>\n",
       "      <td>0.527951</td>\n",
       "    </tr>\n",
       "    <tr>\n",
       "      <th>4</th>\n",
       "      <td>0.000006</td>\n",
       "      <td>0.198052</td>\n",
       "      <td>0.015799</td>\n",
       "      <td>0.057267</td>\n",
       "      <td>0.598310</td>\n",
       "      <td>0.815416</td>\n",
       "      <td>0.809284</td>\n",
       "      <td>0.715983</td>\n",
       "      <td>0.703011</td>\n",
       "    </tr>\n",
       "    <tr>\n",
       "      <th>...</th>\n",
       "      <td>...</td>\n",
       "      <td>...</td>\n",
       "      <td>...</td>\n",
       "      <td>...</td>\n",
       "      <td>...</td>\n",
       "      <td>...</td>\n",
       "      <td>...</td>\n",
       "      <td>...</td>\n",
       "      <td>...</td>\n",
       "    </tr>\n",
       "    <tr>\n",
       "      <th>14360</th>\n",
       "      <td>0.000000</td>\n",
       "      <td>0.028896</td>\n",
       "      <td>0.038642</td>\n",
       "      <td>0.039792</td>\n",
       "      <td>0.597762</td>\n",
       "      <td>0.398580</td>\n",
       "      <td>0.935419</td>\n",
       "      <td>0.595552</td>\n",
       "      <td>0.727021</td>\n",
       "    </tr>\n",
       "    <tr>\n",
       "      <th>14361</th>\n",
       "      <td>0.000000</td>\n",
       "      <td>0.034524</td>\n",
       "      <td>0.108488</td>\n",
       "      <td>0.007631</td>\n",
       "      <td>0.330263</td>\n",
       "      <td>0.454361</td>\n",
       "      <td>0.191726</td>\n",
       "      <td>0.828385</td>\n",
       "      <td>0.817453</td>\n",
       "    </tr>\n",
       "    <tr>\n",
       "      <th>14362</th>\n",
       "      <td>0.000000</td>\n",
       "      <td>0.461039</td>\n",
       "      <td>0.256062</td>\n",
       "      <td>0.014641</td>\n",
       "      <td>0.646642</td>\n",
       "      <td>0.864097</td>\n",
       "      <td>0.632694</td>\n",
       "      <td>0.438991</td>\n",
       "      <td>0.671383</td>\n",
       "    </tr>\n",
       "    <tr>\n",
       "      <th>14363</th>\n",
       "      <td>0.284114</td>\n",
       "      <td>0.349567</td>\n",
       "      <td>0.049256</td>\n",
       "      <td>0.155551</td>\n",
       "      <td>0.351743</td>\n",
       "      <td>0.538540</td>\n",
       "      <td>0.193744</td>\n",
       "      <td>0.643724</td>\n",
       "      <td>0.505524</td>\n",
       "    </tr>\n",
       "    <tr>\n",
       "      <th>14364</th>\n",
       "      <td>0.000370</td>\n",
       "      <td>0.151515</td>\n",
       "      <td>0.029848</td>\n",
       "      <td>0.048277</td>\n",
       "      <td>0.444431</td>\n",
       "      <td>0.858012</td>\n",
       "      <td>0.624622</td>\n",
       "      <td>0.658778</td>\n",
       "      <td>0.606444</td>\n",
       "    </tr>\n",
       "  </tbody>\n",
       "</table>\n",
       "<p>14365 rows × 9 columns</p>\n",
       "</div>"
      ],
      "text/plain": [
       "       instrumentalness  speechiness  liveness  acousticness     tempo  \\\n",
       "0              0.000272     0.034091  0.103434      0.920202  0.359720   \n",
       "1              0.000133     0.033225  0.438003      0.204036  0.398237   \n",
       "2              0.000006     0.029654  0.124660      0.436360  0.666999   \n",
       "3              0.000036     0.034416  0.099390      0.840403  0.604672   \n",
       "4              0.000006     0.198052  0.015799      0.057267  0.598310   \n",
       "...                 ...          ...       ...           ...       ...   \n",
       "14360          0.000000     0.028896  0.038642      0.039792  0.597762   \n",
       "14361          0.000000     0.034524  0.108488      0.007631  0.330263   \n",
       "14362          0.000000     0.461039  0.256062      0.014641  0.646642   \n",
       "14363          0.284114     0.349567  0.049256      0.155551  0.351743   \n",
       "14364          0.000370     0.151515  0.029848      0.048277  0.444431   \n",
       "\n",
       "       danceability   valence    energy  loudness  \n",
       "0          0.156187  0.151362  0.185082  0.460638  \n",
       "1          0.769777  0.915237  0.700929  0.734969  \n",
       "2          0.656187  0.960646  0.687882  0.784374  \n",
       "3          0.456389  0.147326  0.294474  0.527951  \n",
       "4          0.815416  0.809284  0.715983  0.703011  \n",
       "...             ...       ...       ...       ...  \n",
       "14360      0.398580  0.935419  0.595552  0.727021  \n",
       "14361      0.454361  0.191726  0.828385  0.817453  \n",
       "14362      0.864097  0.632694  0.438991  0.671383  \n",
       "14363      0.538540  0.193744  0.643724  0.505524  \n",
       "14364      0.858012  0.624622  0.658778  0.606444  \n",
       "\n",
       "[14365 rows x 9 columns]"
      ]
     },
     "execution_count": 31,
     "metadata": {},
     "output_type": "execute_result"
    }
   ],
   "source": [
    "z"
   ]
  },
  {
   "cell_type": "markdown",
   "id": "90ff38db-384c-4001-b3f3-457c74863737",
   "metadata": {},
   "source": [
    "Heatmap correlation of the attributes that is featured in a song."
   ]
  },
  {
   "cell_type": "code",
   "execution_count": 33,
   "id": "29ee6c47-11f8-4ed1-8f85-0e2297ea1e3a",
   "metadata": {},
   "outputs": [
    {
     "data": {
      "image/png": "[encoded data removed]",
      "text/plain": [
       "<Figure size 1080x720 with 2 Axes>"
      ]
     },
     "metadata": {
      "needs_background": "light"
     },
     "output_type": "display_data"
    }
   ],
   "source": [
    "plt.figure(figsize=(15,10)) \n",
    "a_corr = sns.heatmap(z.corr(), annot=True, cmap= \"coolwarm\")"
   ]
  },
  {
   "cell_type": "code",
   "execution_count": 34,
   "id": "fc572cdc-ea47-433f-b73a-e66deec58727",
   "metadata": {},
   "outputs": [],
   "source": [
    "audio = pd.merge(newbb, spotify)\n",
    "discoveraudio = audio"
   ]
  },
  {
   "cell_type": "code",
   "execution_count": 35,
   "id": "87909ebc-0d75-4f21-8749-382e6baad384",
   "metadata": {},
   "outputs": [],
   "source": [
    "audio = audio[audio[\"Week Position\"]==1]"
   ]
  },
  {
   "cell_type": "code",
   "execution_count": 36,
   "id": "adf437a4-fde6-4161-a117-eb4810e4b9e4",
   "metadata": {},
   "outputs": [],
   "source": [
    "audio = audio.drop(columns=['SongID', 'Instance', 'spotify_genre', 'spotify_track_id', 'spotify_track_preview_url', 'spotify_track_explicit', 'spotify_track_album', 'spotify_track_popularity', 'Peak Position'])"
   ]
  },
  {
   "cell_type": "code",
   "execution_count": 37,
   "id": "cf142aac-7e63-431e-a166-03c0eee6317f",
   "metadata": {},
   "outputs": [
    {
     "data": {
      "text/plain": [
       "<Figure size 2160x720 with 0 Axes>"
      ]
     },
     "metadata": {},
     "output_type": "display_data"
    }
   ],
   "source": [
    "plt.figure(figsize=(30,10))\n",
    "num = audio[[\"instrumentalness\", \"speechiness\", \"liveness\", \"acousticness\",\"tempo\" , \"danceability\", \"valence\",\"energy\", \"loudness\"]]"
   ]
  },
  {
   "cell_type": "code",
   "execution_count": 38,
   "id": "a8390237-1fd5-4b39-b809-2c6eda1c2e18",
   "metadata": {},
   "outputs": [
    {
     "data": {
      "text/plain": [
       "Text(0.5, 1.0, 'Confidence measure attributes of Number 1 Billboard Hot 100 Songs')"
      ]
     },
     "execution_count": 38,
     "metadata": {},
     "output_type": "execute_result"
    },
    {
     "data": {
      "image/png": "[encoded data removed]",
      "text/plain": [
       "<Figure size 1440x720 with 1 Axes>"
      ]
     },
     "metadata": {
      "needs_background": "light"
     },
     "output_type": "display_data"
    }
   ],
   "source": [
    "plt.figure(figsize=(20,10))\n",
    "x = num.values\n",
    "min_max_scaler = preprocessing.MinMaxScaler()\n",
    "x_scaled = min_max_scaler.fit_transform(x)\n",
    "num = pd.DataFrame(x_scaled)\n",
    "num.columns = [\"instrumentalness\", \"speechiness\", \"liveness\", \"acousticness\",\"tempo\" , \"danceability\", \"valence\",\"energy\", \"loudness\"]\n",
    "n_1 = sns.boxplot(data = num, color = \"pink\", showmeans=True)\n",
    "plt.title(\"Confidence measure attributes of Number 1 Billboard Hot 100 Songs\")"
   ]
  },
  {
   "cell_type": "code",
   "execution_count": 39,
   "id": "b547d05c-434f-4f18-a632-472243b88fa1",
   "metadata": {},
   "outputs": [
    {
     "data": {
      "text/plain": [
       "Index(['WeekID', 'Week Position', 'Song', 'Performer', 'SongID', 'Instance',\n",
       "       'Previous Week Position', 'Peak Position', 'Weeks on Chart', 'year',\n",
       "       'month', 'day', 'spotify_genre', 'spotify_track_id',\n",
       "       'spotify_track_preview_url', 'spotify_track_duration_ms',\n",
       "       'spotify_track_explicit', 'spotify_track_album', 'danceability',\n",
       "       'energy', 'key', 'loudness', 'mode', 'speechiness', 'acousticness',\n",
       "       'instrumentalness', 'liveness', 'valence', 'tempo', 'time_signature',\n",
       "       'spotify_track_popularity'],\n",
       "      dtype='object')"
      ]
     },
     "execution_count": 39,
     "metadata": {},
     "output_type": "execute_result"
    }
   ],
   "source": [
    "discoveraudio.columns"
   ]
  },
  {
   "cell_type": "code",
   "execution_count": 40,
   "id": "d353d26d-65f4-4a46-aebd-30c535ddf207",
   "metadata": {},
   "outputs": [],
   "source": [
    "discoveraudio = discoveraudio.drop(columns=['Song',\n",
    "       'Instance', 'spotify_genre', 'spotify_track_id',\n",
    "       'spotify_track_preview_url',\n",
    "       'spotify_track_explicit', 'spotify_track_album',\n",
    "       'spotify_track_popularity'])"
   ]
  },
  {
   "cell_type": "code",
   "execution_count": 41,
   "id": "74a1c81f-1123-4df0-8b31-b7cd76f6cf39",
   "metadata": {},
   "outputs": [
    {
     "data": {
      "text/plain": [
       "Index(['WeekID', 'Week Position', 'Performer', 'SongID',\n",
       "       'Previous Week Position', 'Peak Position', 'Weeks on Chart', 'year',\n",
       "       'month', 'day', 'spotify_track_duration_ms', 'danceability', 'energy',\n",
       "       'key', 'loudness', 'mode', 'speechiness', 'acousticness',\n",
       "       'instrumentalness', 'liveness', 'valence', 'tempo', 'time_signature'],\n",
       "      dtype='object')"
      ]
     },
     "execution_count": 41,
     "metadata": {},
     "output_type": "execute_result"
    }
   ],
   "source": [
    "discoveraudio.columns"
   ]
  },
  {
   "cell_type": "code",
   "execution_count": 42,
   "id": "b24025d4-8e1d-4c8a-9c28-fd0f88d6f677",
   "metadata": {},
   "outputs": [],
   "source": [
    "discoveraudio = discoveraudio.loc[(discoveraudio[\"Peak Position\"] < 50) & (discoveraudio[\"Weeks on Chart\"] > 20)]"
   ]
  },
  {
   "cell_type": "code",
   "execution_count": 43,
   "id": "8d4959ca-ee7a-48a4-a482-1cc727488e16",
   "metadata": {},
   "outputs": [],
   "source": [
    "discoveraudio[\"Peak Position\"] = (discoveraudio[\"Peak Position\"] == 1).astype(int)"
   ]
  },
  {
   "cell_type": "code",
   "execution_count": 44,
   "id": "14719374-f345-4b13-8457-158bc4cc99cd",
   "metadata": {},
   "outputs": [],
   "source": [
    "discoveraudio = discoveraudio.groupby(['SongID','Performer', 'Peak Position',\n",
    "       'spotify_track_duration_ms', 'danceability', 'energy', 'key',\n",
    "       'loudness', 'mode', 'speechiness', 'acousticness', 'instrumentalness',\n",
    "       'liveness', 'valence', 'tempo', 'time_signature'])[\"Weeks on Chart\"].max().reset_index()"
   ]
  },
  {
   "cell_type": "code",
   "execution_count": 45,
   "id": "8ba9ef19-26e8-40a6-97c1-8fcf31e76d07",
   "metadata": {},
   "outputs": [],
   "source": [
    "y = discoveraudio[\"Peak Position\"]"
   ]
  },
  {
   "cell_type": "code",
   "execution_count": 46,
   "id": "0e18bd62-e094-4e79-a589-40be7944c4df",
   "metadata": {},
   "outputs": [],
   "source": [
    "le = preprocessing.LabelEncoder()\n",
    "le.fit(discoveraudio[\"SongID\"])\n",
    "discoveraudio[\"SongID\"] = le.transform(discoveraudio[\"SongID\"])"
   ]
  },
  {
   "cell_type": "code",
   "execution_count": 47,
   "id": "5d3f029b-611e-4344-a7d0-6588e93b200a",
   "metadata": {},
   "outputs": [],
   "source": [
    "le.fit(discoveraudio[\"Performer\"])\n",
    "discoveraudio[\"Performer\"] = le.transform(discoveraudio[\"Performer\"])"
   ]
  },
  {
   "cell_type": "code",
   "execution_count": 48,
   "id": "67060574-3c52-41f0-83cb-5f5cffd7cc7b",
   "metadata": {},
   "outputs": [],
   "source": [
    "discoveraudio = preprocessing.scale(discoveraudio)\n",
    "discoveraudio = pd.DataFrame(discoveraudio)\n",
    "discoveraudio.columns = ['SongID', 'Performer', 'Peak Position',\n",
    "       'spotify_track_duration_ms', 'danceability', 'energy', 'key',\n",
    "       'loudness', 'mode', 'speechiness', 'acousticness', 'instrumentalness',\n",
    "       'liveness', 'valence', 'tempo', 'time_signature', 'Weeks on Chart']\n",
    "\n",
    "discoveraudio = discoveraudio.dropna()"
   ]
  },
  {
   "cell_type": "code",
   "execution_count": 49,
   "id": "74822729-8ea7-49f0-9a92-5221e153696b",
   "metadata": {},
   "outputs": [],
   "source": [
    "X = discoveraudio.drop(columns= ['Peak Position', \"SongID\", \"Weeks on Chart\", \"Performer\"])"
   ]
  },
  {
   "cell_type": "code",
   "execution_count": 50,
   "id": "690644f1-5195-45e7-ae53-3663811a6f9e",
   "metadata": {},
   "outputs": [
    {
     "name": "stdout",
     "output_type": "stream",
     "text": [
      "<class 'pandas.core.frame.DataFrame'>\n",
      "RangeIndex: 745 entries, 0 to 744\n",
      "Data columns (total 13 columns):\n",
      " #   Column                     Non-Null Count  Dtype  \n",
      "---  ------                     --------------  -----  \n",
      " 0   spotify_track_duration_ms  745 non-null    float64\n",
      " 1   danceability               745 non-null    float64\n",
      " 2   energy                     745 non-null    float64\n",
      " 3   key                        745 non-null    float64\n",
      " 4   loudness                   745 non-null    float64\n",
      " 5   mode                       745 non-null    float64\n",
      " 6   speechiness                745 non-null    float64\n",
      " 7   acousticness               745 non-null    float64\n",
      " 8   instrumentalness           745 non-null    float64\n",
      " 9   liveness                   745 non-null    float64\n",
      " 10  valence                    745 non-null    float64\n",
      " 11  tempo                      745 non-null    float64\n",
      " 12  time_signature             745 non-null    float64\n",
      "dtypes: float64(13)\n",
      "memory usage: 75.8 KB\n"
     ]
    }
   ],
   "source": [
    "X.info()"
   ]
  },
  {
   "cell_type": "markdown",
   "id": "8a12f585-2b03-4df4-8530-9ec982672cff",
   "metadata": {},
   "source": [
    "Splitting the dataset and building classifiers."
   ]
  },
  {
   "cell_type": "code",
   "execution_count": 51,
   "id": "537327de-b6cb-426e-abbc-2301d3b46a15",
   "metadata": {},
   "outputs": [],
   "source": [
    "X_train, X_test, y_train, y_test = train_test_split(X, y, test_size = 0.3)"
   ]
  },
  {
   "cell_type": "code",
   "execution_count": 52,
   "id": "ea26c8e5-3e02-465b-8c67-c7c58e5cbf04",
   "metadata": {},
   "outputs": [
    {
     "data": {
      "text/plain": [
       "RandomForestClassifier()"
      ]
     },
     "execution_count": 52,
     "metadata": {},
     "output_type": "execute_result"
    }
   ],
   "source": [
    "random_forest = RandomForestClassifier(n_estimators=100)\n",
    "random_forest.fit(X_train, y_train)"
   ]
  },
  {
   "cell_type": "code",
   "execution_count": 53,
   "id": "cdb08fbf-2cd2-44e9-a147-646af8fbb93c",
   "metadata": {},
   "outputs": [],
   "source": [
    "Y_prediction = random_forest.predict(X_test)\n",
    "importances = pd.DataFrame({'feature':X_train.columns,'importance':np.round(random_forest.feature_importances_,3)})\n",
    "importances = importances.sort_values('importance',ascending=False)"
   ]
  },
  {
   "cell_type": "code",
   "execution_count": 54,
   "id": "1d51aeeb-7711-4ef2-9442-f644b9c290de",
   "metadata": {},
   "outputs": [],
   "source": [
    "random_forest.score(X_train, y_train)\n",
    "acc_random_forest = round(random_forest.score(X_train, y_train) * 100, 2)"
   ]
  },
  {
   "cell_type": "code",
   "execution_count": 55,
   "id": "717c4135-1f3d-4b08-af29-870dd7b6f982",
   "metadata": {},
   "outputs": [
    {
     "data": {
      "text/plain": [
       "99.42"
      ]
     },
     "execution_count": 55,
     "metadata": {},
     "output_type": "execute_result"
    }
   ],
   "source": [
    "acc_random_forest"
   ]
  },
  {
   "cell_type": "code",
   "execution_count": 56,
   "id": "5d30fcdb-fa11-4697-b47d-ad9325eac22b",
   "metadata": {},
   "outputs": [],
   "source": [
    "# Logistic Regression\n",
    "logreg = LogisticRegression()\n",
    "logreg.fit(X_train, y_train)\n",
    "\n",
    "Y_pred = logreg.predict(X_test)\n",
    "\n",
    "acc_log = round(logreg.score(X_train, y_train) * 100, 2)"
   ]
  },
  {
   "cell_type": "code",
   "execution_count": 57,
   "id": "c6bebd42-b763-4c5b-8a85-750b42e6ee37",
   "metadata": {},
   "outputs": [
    {
     "data": {
      "text/plain": [
       "83.88"
      ]
     },
     "execution_count": 57,
     "metadata": {},
     "output_type": "execute_result"
    }
   ],
   "source": [
    "acc_log"
   ]
  },
  {
   "cell_type": "code",
   "execution_count": 58,
   "id": "e9f03484-2fe0-4384-b96e-043621f5abd2",
   "metadata": {},
   "outputs": [],
   "source": [
    "# Decision Tree\n",
    "decision_tree = DecisionTreeClassifier()\n",
    "decision_tree.fit(X_train, y_train)\n",
    "\n",
    "Y_pred = decision_tree.predict(X_test)\n",
    "\n",
    "acc_decision_tree = round(decision_tree.score(X_train, y_train) * 100, 2)"
   ]
  },
  {
   "cell_type": "code",
   "execution_count": 59,
   "id": "fdbbcde9-0312-4e7a-aefe-9c772d5511d3",
   "metadata": {},
   "outputs": [
    {
     "data": {
      "text/plain": [
       "99.42"
      ]
     },
     "execution_count": 59,
     "metadata": {},
     "output_type": "execute_result"
    }
   ],
   "source": [
    "acc_decision_tree"
   ]
  },
  {
   "cell_type": "code",
   "execution_count": 60,
   "id": "d0cb3982-6026-401a-96fc-ba9dd1d38ea7",
   "metadata": {},
   "outputs": [],
   "source": [
    "results = pd.DataFrame({\n",
    "    'Model': ['Logistic Regression', 'Random Forest', 'Decision Tree'],\n",
    "    'Score': [acc_log, acc_random_forest, acc_decision_tree]})\n",
    "results = results.sort_values(by='Score', ascending=False)"
   ]
  },
  {
   "cell_type": "code",
   "execution_count": 61,
   "id": "b7c342be-b856-4cf6-b401-eb80e9c22282",
   "metadata": {},
   "outputs": [
    {
     "data": {
      "text/plain": [
       "Text(0.5, 1.0, 'Accuracy of Predictive Models')"
      ]
     },
     "execution_count": 61,
     "metadata": {},
     "output_type": "execute_result"
    },
    {
     "data": {
      "image/png": "[encoded data removed]",
      "text/plain": [
       "<Figure size 720x360 with 1 Axes>"
      ]
     },
     "metadata": {
      "needs_background": "light"
     },
     "output_type": "display_data"
    }
   ],
   "source": [
    "plt.figure(figsize=(10,5))\n",
    "res_plot = sns.barplot(x = 'Model', y = 'Score', data = results, color = 'pink')\n",
    "plt.title(\"Accuracy of Predictive Models\")"
   ]
  },
  {
   "cell_type": "code",
   "execution_count": 62,
   "id": "178538d4-1b6a-41df-a973-62f119f19fd0",
   "metadata": {},
   "outputs": [
    {
     "data": {
      "text/html": [
       "<div>\n",
       "<style scoped>\n",
       "    .dataframe tbody tr th:only-of-type {\n",
       "        vertical-align: middle;\n",
       "    }\n",
       "\n",
       "    .dataframe tbody tr th {\n",
       "        vertical-align: top;\n",
       "    }\n",
       "\n",
       "    .dataframe thead th {\n",
       "        text-align: right;\n",
       "    }\n",
       "</style>\n",
       "<table border=\"1\" class=\"dataframe\">\n",
       "  <thead>\n",
       "    <tr style=\"text-align: right;\">\n",
       "      <th></th>\n",
       "      <th>Model</th>\n",
       "      <th>Score</th>\n",
       "    </tr>\n",
       "  </thead>\n",
       "  <tbody>\n",
       "    <tr>\n",
       "      <th>1</th>\n",
       "      <td>Random Forest</td>\n",
       "      <td>99.42</td>\n",
       "    </tr>\n",
       "    <tr>\n",
       "      <th>2</th>\n",
       "      <td>Decision Tree</td>\n",
       "      <td>99.42</td>\n",
       "    </tr>\n",
       "    <tr>\n",
       "      <th>0</th>\n",
       "      <td>Logistic Regression</td>\n",
       "      <td>83.88</td>\n",
       "    </tr>\n",
       "  </tbody>\n",
       "</table>\n",
       "</div>"
      ],
      "text/plain": [
       "                 Model  Score\n",
       "1        Random Forest  99.42\n",
       "2        Decision Tree  99.42\n",
       "0  Logistic Regression  83.88"
      ]
     },
     "execution_count": 62,
     "metadata": {},
     "output_type": "execute_result"
    }
   ],
   "source": [
    "results"
   ]
  },
  {
   "cell_type": "code",
   "execution_count": 63,
   "id": "4ac46db3-c569-4381-a0b6-a91bd2d32d23",
   "metadata": {},
   "outputs": [
    {
     "data": {
      "image/png": "[encoded data removed]",
      "text/plain": [
       "<Figure size 1800x720 with 1 Axes>"
      ]
     },
     "metadata": {
      "needs_background": "light"
     },
     "output_type": "display_data"
    }
   ],
   "source": [
    "plt.figure(figsize=(25,10))\n",
    "res_plot = sns.barplot(x = 'feature', y = 'importance', data = importances, color = 'green')\n",
    "plt.title(\"Most important features in predicting if a song would become a Number One Hit\")\n",
    "plt.savefig(\"Most important features in predicting if a song would become a Number One Hit.png\")"
   ]
  },
  {
   "cell_type": "code",
   "execution_count": 64,
   "id": "f423bb6f-898c-425c-b8e8-cd5182ed2e29",
   "metadata": {},
   "outputs": [
    {
     "data": {
      "text/html": [
       "<div>\n",
       "<style scoped>\n",
       "    .dataframe tbody tr th:only-of-type {\n",
       "        vertical-align: middle;\n",
       "    }\n",
       "\n",
       "    .dataframe tbody tr th {\n",
       "        vertical-align: top;\n",
       "    }\n",
       "\n",
       "    .dataframe thead th {\n",
       "        text-align: right;\n",
       "    }\n",
       "</style>\n",
       "<table border=\"1\" class=\"dataframe\">\n",
       "  <thead>\n",
       "    <tr style=\"text-align: right;\">\n",
       "      <th></th>\n",
       "      <th>feature</th>\n",
       "      <th>importance</th>\n",
       "    </tr>\n",
       "  </thead>\n",
       "  <tbody>\n",
       "    <tr>\n",
       "      <th>2</th>\n",
       "      <td>energy</td>\n",
       "      <td>0.117</td>\n",
       "    </tr>\n",
       "    <tr>\n",
       "      <th>10</th>\n",
       "      <td>valence</td>\n",
       "      <td>0.112</td>\n",
       "    </tr>\n",
       "    <tr>\n",
       "      <th>0</th>\n",
       "      <td>spotify_track_duration_ms</td>\n",
       "      <td>0.106</td>\n",
       "    </tr>\n",
       "    <tr>\n",
       "      <th>7</th>\n",
       "      <td>acousticness</td>\n",
       "      <td>0.101</td>\n",
       "    </tr>\n",
       "    <tr>\n",
       "      <th>1</th>\n",
       "      <td>danceability</td>\n",
       "      <td>0.096</td>\n",
       "    </tr>\n",
       "    <tr>\n",
       "      <th>6</th>\n",
       "      <td>speechiness</td>\n",
       "      <td>0.089</td>\n",
       "    </tr>\n",
       "    <tr>\n",
       "      <th>4</th>\n",
       "      <td>loudness</td>\n",
       "      <td>0.088</td>\n",
       "    </tr>\n",
       "    <tr>\n",
       "      <th>9</th>\n",
       "      <td>liveness</td>\n",
       "      <td>0.085</td>\n",
       "    </tr>\n",
       "    <tr>\n",
       "      <th>11</th>\n",
       "      <td>tempo</td>\n",
       "      <td>0.082</td>\n",
       "    </tr>\n",
       "    <tr>\n",
       "      <th>3</th>\n",
       "      <td>key</td>\n",
       "      <td>0.054</td>\n",
       "    </tr>\n",
       "    <tr>\n",
       "      <th>8</th>\n",
       "      <td>instrumentalness</td>\n",
       "      <td>0.046</td>\n",
       "    </tr>\n",
       "    <tr>\n",
       "      <th>5</th>\n",
       "      <td>mode</td>\n",
       "      <td>0.017</td>\n",
       "    </tr>\n",
       "    <tr>\n",
       "      <th>12</th>\n",
       "      <td>time_signature</td>\n",
       "      <td>0.007</td>\n",
       "    </tr>\n",
       "  </tbody>\n",
       "</table>\n",
       "</div>"
      ],
      "text/plain": [
       "                      feature  importance\n",
       "2                      energy       0.117\n",
       "10                    valence       0.112\n",
       "0   spotify_track_duration_ms       0.106\n",
       "7                acousticness       0.101\n",
       "1                danceability       0.096\n",
       "6                 speechiness       0.089\n",
       "4                    loudness       0.088\n",
       "9                    liveness       0.085\n",
       "11                      tempo       0.082\n",
       "3                         key       0.054\n",
       "8            instrumentalness       0.046\n",
       "5                        mode       0.017\n",
       "12             time_signature       0.007"
      ]
     },
     "execution_count": 64,
     "metadata": {},
     "output_type": "execute_result"
    }
   ],
   "source": [
    "importances"
   ]
  }
 ],
 "metadata": {
  "kernelspec": {
   "display_name": "Python 3 (ipykernel)",
   "language": "python",
   "name": "python3"
  },
  "language_info": {
   "codemirror_mode": {
    "name": "ipython",
    "version": 3
   },
   "file_extension": ".py",
   "mimetype": "text/x-python",
   "name": "python",
   "nbconvert_exporter": "python",
   "pygments_lexer": "ipython3",
   "version": "3.9.12"
  }
 },
 "nbformat": 4,
 "nbformat_minor": 5
}
